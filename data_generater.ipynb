{
 "cells": [
  {
   "cell_type": "code",
   "execution_count": 41,
   "metadata": {},
   "outputs": [],
   "source": [
    "import numpy as np\n",
    "from matplotlib import pyplot as plt"
   ]
  },
  {
   "cell_type": "code",
   "execution_count": 56,
   "metadata": {},
   "outputs": [],
   "source": [
    "def hmm_generater(transition_matrix,initial_prob,mean,sd,length):\n",
    "    \"\"\"\n",
    "    generate a sequence of HMM data with fixed transition matrix, initial probability\n",
    "    \n",
    "    \"\"\"\n",
    "    res = []\n",
    "    cur_state = np.random.choice(range(len(initial_prob)),1,True,initial_prob)[0]\n",
    "    for _ in range(length):\n",
    "        res.append(np.random.normal(mean[cur_state],sd[cur_state]))\n",
    "        cur_state = np.random.choice(range(len(initial_prob)),1,True,transition_matrix[cur_state])[0]\n",
    "    return res\n",
    "        \n",
    "\n",
    "class HMM_mixture_generater():\n",
    "    '''\n",
    "    The observation variable is 1D gaussian variable\n",
    "    '''\n",
    "    def __init__(self,transition_matrixs,cluster_initial_prob,states_initial_prob,mean,sd):\n",
    "        \"\"\"\n",
    "        Input:\n",
    "        transition_matrix: list[matrix[ni*ni]]\n",
    "        cluster_initial_prob:list[] (sum to one)\n",
    "        states_initial_prob:list[list[]]\n",
    "        mean:list[list[]]\n",
    "        sd:list[list[]]\n",
    "        \"\"\"\n",
    "        self.M = len(transition_matrixs) #number of cluster\n",
    "        self.states = [matrix.shape[0] for matrix in transition_matrixs] #number of states of each cluster\n",
    "        self.transition_matrixs = transition_matrixs \n",
    "        self.cluster_initial_prob = cluster_initial_prob #the initial probability of cluster\n",
    "        self.states_initial_prob = states_initial_prob # the initial probability of states in cluster, list [[n1],[n2]...,[nM]]  \n",
    "        self.mean = mean #mean of each states in each cluster, list [[n1],[n2]...,[nM]]  \n",
    "        self.sd = sd #variance of each states in each cluster,list [[n1],[n2]...,[nM]]\n",
    "    \n",
    "    def generate(self,n,length):\n",
    "        res = []\n",
    "        clusters = np.random.choice(range(self.M),n,True,self.cluster_initial_prob)\n",
    "        for i in range(n):\n",
    "            res.append(hmm_generater(self.transition_matrixs[clusters[i]],self.states_initial_prob[clusters[i]],self.mean[clusters[i]],\n",
    "                                    self.sd[clusters[i]],length))\n",
    "        return [res,clusters]"
   ]
  },
  {
   "cell_type": "code",
   "execution_count": 57,
   "metadata": {},
   "outputs": [],
   "source": [
    "A1 = np.array([[0.6,0.4],[0.4,0.6]])\n",
    "A2 = np.array([[0.9,0.1],[0.1,0.9]])"
   ]
  },
  {
   "cell_type": "code",
   "execution_count": 58,
   "metadata": {},
   "outputs": [],
   "source": [
    "generater = HMM_mixture_generater([A1,A2],[0.3,0.7],[[0.3,0.7],[0.3,0.7]],[[0,3],[0,3]],[[1,1],[1,1]])"
   ]
  },
  {
   "cell_type": "code",
   "execution_count": 59,
   "metadata": {},
   "outputs": [],
   "source": [
    "data,y = generater.generate(10,10)"
   ]
  },
  {
   "cell_type": "code",
   "execution_count": 64,
   "metadata": {},
   "outputs": [],
   "source": [
    "def plot_sequences(sequences,y):\n",
    "    n = len(sequences)\n",
    "    length = len(max(sequences,key=len))\n",
    "    plt.figure(figsize=(length,n*2))\n",
    "    for i in range(1,n+1):\n",
    "        plt.subplot(n,1,i)\n",
    "        plt.plot(sequences[i-1])\n",
    "        plt.title(\"from cluster %i\"%y[i-1])\n",
    "    plt.show()"
   ]
  },
  {
   "cell_type": "code",
   "execution_count": null,
   "metadata": {},
   "outputs": [],
   "source": [
    "plot_sequences(data,y)"
   ]
  },
  {
   "cell_type": "code",
   "execution_count": 51,
   "metadata": {},
   "outputs": [
    {
     "data": {
      "text/plain": [
       "[1, 2, 3]"
      ]
     },
     "execution_count": 51,
     "metadata": {},
     "output_type": "execute_result"
    }
   ],
   "source": []
  },
  {
   "cell_type": "code",
   "execution_count": null,
   "metadata": {},
   "outputs": [],
   "source": []
  }
 ],
 "metadata": {
  "kernelspec": {
   "display_name": "Python 3",
   "language": "python",
   "name": "python3"
  },
  "language_info": {
   "codemirror_mode": {
    "name": "ipython",
    "version": 3
   },
   "file_extension": ".py",
   "mimetype": "text/x-python",
   "name": "python",
   "nbconvert_exporter": "python",
   "pygments_lexer": "ipython3",
   "version": "3.7.0"
  }
 },
 "nbformat": 4,
 "nbformat_minor": 2
}
