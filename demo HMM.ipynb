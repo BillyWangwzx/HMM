{
 "cells": [
  {
   "cell_type": "code",
   "execution_count": 3,
   "metadata": {},
   "outputs": [],
   "source": [
    "import numpy as np\n",
    "import pandas as pd\n",
    "from collections import Counter"
   ]
  },
  {
   "cell_type": "markdown",
   "metadata": {},
   "source": [
    "1. generate data (gaussian)\n",
    "\n",
    "2. two cases, one easy to classify, one hard to classify.\n",
    "\n",
    "3. forward, backward."
   ]
  },
  {
   "cell_type": "code",
   "execution_count": 175,
   "metadata": {},
   "outputs": [],
   "source": [
    "class HMM():\n",
    "    def __init__(self,X_train,Y_train):\n",
    "        self.make_codebook(X_train,Y_train)\n",
    "        \n",
    "        self.X_train = self.encode_X(X_train)\n",
    "        self.Y_train = self.encode_Y(Y_train) \n",
    "        \n",
    "        \n",
    "    def make_codebook(self,X_train,Y_train):\n",
    "        \n",
    "        self.X_dic_encode = {char:i for i,char in enumerate(np.unique(X_train.ravel()))}\n",
    "        self.X_dic_decode = {self.X_dic_encode[char]:char for char in self.X_dic_encode}\n",
    "        \n",
    "        self.Y_dic_encode = {char:i for i,char in enumerate(np.unique(Y_train.ravel()))}\n",
    "        self.Y_dic_decode = {self.Y_dic_encode[char]:char for char in self.Y_dic_encode}\n",
    "    \n",
    "    def encode_X(self,X):\n",
    "        return np.array([[self.X_dic_encode[X[i][j]] for j in range(X.shape[1])] for i in range(X.shape[0])])\n",
    "        \n",
    "    def encode_Y(self,Y):\n",
    "        return np.array([[self.Y_dic_encode[Y[i][j]] for j in range(Y.shape[1])] for i in range(Y.shape[0])])\n",
    "    \n",
    "    def decode_X(self,X):\n",
    "        return np.array([[self.X_dic_decode[X[i][j]] for j in range(X.shape[1])] for i in range(X.shape[0])])\n",
    "    \n",
    "    def decode_Y(self,Y):\n",
    "        return np.array([[self.Y_dic_dncode[Y[i][j]] for j in range(Y.shape[1])] for i in range(Y.shape[0])])\n",
    "    \n",
    "    def ic(self,Y_train):\n",
    "        cnt = Counter([temp[0] for temp in Y_train])\n",
    "        return np.array([cnt[i] for i in range(len(self.Y_dic_decode))])\n",
    "    \n",
    "    def fc(self,Y_train):\n",
    "        cnt = np.zeros((len(self.Y_dic_decode),len(self.Y_dic_decode)))\n",
    "        for i in range(Y_train.shape[0]):\n",
    "            cnt[Y_train[i][-1]][Y_train[i][-2]]+=1\n",
    "        return cnt\n",
    "    \n",
    "    def tc(self,Y_train):\n",
    "        cnt = np.zeros((len(self.Y_dic_decode),len(self.Y_dic_decode)))\n",
    "        for i in range(Y_train.shape[0]):\n",
    "            for j in range(Y_train.shape[1]-2):\n",
    "                cnt[Y_train[i][j+1]][Y_train[i][j]]+=1\n",
    "        return cnt\n",
    "    \n",
    "    def sc(self,X_train,Y_train):\n",
    "        cnt = np.zeros((len(self.X_dic_decode),len(self.Y_dic_decode)))\n",
    "        for i in range(X_train.shape[0]):\n",
    "            for j in range(X_train.shape[1]):\n",
    "                cnt[X_train[i][j]][Y_train[i][j]]+=1\n",
    "        return cnt\n",
    "    \n",
    "    def collect_counts(self):\n",
    "        self.initial_counts = self.ic(self.Y_train)\n",
    "        self.final_counts = self.fc(self.Y_train)\n",
    "        self.transition_counts = self.tc(self.Y_train)\n",
    "        self.state_counts = self.sc(self.X_train,self.Y_train)\n",
    "    \n",
    "    def sanity_check(self):\n",
    "        if np.sum(self.initial_counts)==self.X_train.shape[0]:\n",
    "            print(1)\n",
    "        if np.sum(self.final_counts) == self.X_train.shape[0]:\n",
    "            print(2)\n",
    "        if np.sum(self.transition_counts) == self.X_train.shape[0]*(self.X_train.shape[1]-2):\n",
    "            print(3)\n",
    "        if np.sum(self.state_counts) == self.X_train.shape[0]*self.X_train.shape[1]:\n",
    "            print(4)\n",
    "    \n",
    "    def fit(self):\n",
    "        self.init_probs = (self.initial_counts/self.initial_counts.sum())\n",
    "        self.transition_probs = (self.transition_counts/self.transition_counts.sum(0))\n",
    "        self.final_probs = (self.final_counts/self.final_counts.sum(0))\n",
    "        self.observation_probs = (self.state_counts/self.state_counts.sum(0))\n",
    "    \n",
    "    def build_potentials(self,sequence):\n",
    "        s = self.encode_X(sequence)[0]\n",
    "        node_potentials = np.zeros((len(self.Y_dic_decode),s.shape[0]))\n",
    "        for i in range(len(self.Y_dic_decode)):\n",
    "            for j in range(s.shape[0]):\n",
    "                if not j:\n",
    "                    node_potentials[i,j] = self.init_probs[i]*self.observation_probs[s[j],i]\n",
    "                else:\n",
    "                    node_potentials[i,j] = self.observation_probs[s[j],i]\n",
    "        \n",
    "        edge_potentials = np.zeros((len(self.Y_dic_decode),len(self.Y_dic_decode),s.shape[0]-1))\n",
    "        for cur_state in range(len(self.Y_dic_decode)):\n",
    "            for next_state in range(len(self.Y_dic_decode)):\n",
    "                for i in range(s.shape[0]-1):\n",
    "                    if i == s.shape[0]-2:\n",
    "                        edge_potentials[cur_state,next_state,i] = self.final_probs[next_state,cur_state]\n",
    "                    else:\n",
    "                        edge_potentials[cur_state,next_state,i] = self.transition_probs[next_state,cur_state]\n",
    "        return node_potentials,edge_potentials\n",
    "    \n",
    "    def _forward_backward(self,node_potentials,edge_potentials):\n",
    "        H,N = node_potentials.shape\n",
    "        forward = np.zeros([H,N])\n",
    "        backward = np.ones([H,N])\n",
    "        forward[:,0] = node_potentials[:,0]\n",
    "        ##forward\n",
    "        for pos in range(1,N):\n",
    "            for cur_state in range(H):\n",
    "                forward_v = forward[:,pos-1]\n",
    "                trans_v = edge_potentials[:,cur_state,pos-1]\n",
    "                forward[cur_state,pos] = (forward_v@trans_v)*node_potentials[cur_state,pos]\n",
    "\n",
    "        ##backward\n",
    "        for pos in range(N-2,-1,-1):\n",
    "            for cur_state in range(H):\n",
    "                backward_v = backward[:,pos+1]*node_potentials[:,pos+1]\n",
    "                trans_v = edge_potentials[cur_state,:,pos]\n",
    "                backward[cur_state,pos] = trans_v@backward_v\n",
    "\n",
    "        return forward,backward\n",
    "    \n",
    "    def forward_backward(self,sequence):\n",
    "        node_potentials,edge_potentials = self.build_potentials(sequence)\n",
    "        return self._forward_backward(node_potentials,edge_potentials)\n",
    "    \n",
    "    def get_node_posteriors(self,sequence):\n",
    "        forward,backward = self.forward_backward(sequence)\n",
    "        p = forward[:,0]@backward[:,0]\n",
    "        H,N = forward.shape\n",
    "        posteriors = forward*backward/p\n",
    "        return posteriors\n",
    "    \n",
    "    def _viterbi(node_potentials,edge_potentials):\n",
    "        H,N = node_potentials.shape\n",
    "        forward = np.zeros((H,N))\n",
    "        beststate = np.zeros((H,N),dtype=\"int\")\n",
    "\n",
    "        #forward\n",
    "        for state in range(H):\n",
    "            forward[state,0] = node_potentials[state,0]\n",
    "        for pos in range(1,N):\n",
    "            for state in range(H):\n",
    "                forward_v = forward[:,pos-1]\n",
    "                trans_v = edge_potentials[:,state,pos-1]\n",
    "                forward[state,pos] = np.max(forward_v*trans_v)*node_potentials[state,pos]\n",
    "                beststate[state,pos] = np.argmax(forward_v*trans_v)\n",
    "        #backward\n",
    "        y = []\n",
    "        y.append(np.argmax(forward[:,N-1]))\n",
    "        for pos in range(N-1,0,-1):\n",
    "            y.append(beststate[y[-1],pos])\n",
    "        return y[::-1]\n",
    "    \n",
    "    def viterbi_decode(self,sequence):\n",
    "        node_potentials,edge_potentials = self.build_potentials(sequence)\n",
    "        return _viterbi(node_potentials,edge_potentials)\n",
    "        \n",
    "        \n",
    "                \n",
    "        "
   ]
  },
  {
   "cell_type": "code",
   "execution_count": 176,
   "metadata": {},
   "outputs": [],
   "source": [
    "X_train = np.array([[\"w\",\"w\",\"s\",\"c\"],[\"w\",\"w\",\"s\",\"c\"],[\"w\",\"s\",\"s\",\"c\"]])\n",
    "Y_train = np.array([[\"r\",\"s\",\"s\",\"s\"],[\"r\",\"r\",\"r\",\"s\"],[\"s\",\"s\",\"s\",\"s\"]])"
   ]
  },
  {
   "cell_type": "code",
   "execution_count": 177,
   "metadata": {},
   "outputs": [],
   "source": [
    "hmm = HMM(X_train,Y_train)"
   ]
  },
  {
   "cell_type": "code",
   "execution_count": 178,
   "metadata": {},
   "outputs": [],
   "source": [
    "hmm.collect_counts()"
   ]
  },
  {
   "cell_type": "code",
   "execution_count": 179,
   "metadata": {},
   "outputs": [
    {
     "name": "stdout",
     "output_type": "stream",
     "text": [
      "1\n",
      "2\n",
      "3\n",
      "4\n"
     ]
    }
   ],
   "source": [
    "hmm.sanity_check()"
   ]
  },
  {
   "cell_type": "code",
   "execution_count": 180,
   "metadata": {},
   "outputs": [],
   "source": [
    "hmm.fit()"
   ]
  },
  {
   "cell_type": "code",
   "execution_count": 181,
   "metadata": {},
   "outputs": [
    {
     "data": {
      "text/plain": [
       "0.6666666666666666"
      ]
     },
     "execution_count": 181,
     "metadata": {},
     "output_type": "execute_result"
    }
   ],
   "source": [
    "hmm.init_probs[0]"
   ]
  },
  {
   "cell_type": "code",
   "execution_count": 182,
   "metadata": {},
   "outputs": [
    {
     "data": {
      "text/plain": [
       "0.375"
      ]
     },
     "execution_count": 182,
     "metadata": {},
     "output_type": "execute_result"
    }
   ],
   "source": [
    "hmm.observation_probs[1,1]"
   ]
  },
  {
   "cell_type": "code",
   "execution_count": 183,
   "metadata": {},
   "outputs": [
    {
     "data": {
      "text/plain": [
       "array([[0.66666667, 0.        ],\n",
       "       [0.33333333, 1.        ]])"
      ]
     },
     "execution_count": 183,
     "metadata": {},
     "output_type": "execute_result"
    }
   ],
   "source": [
    "hmm.transition_probs"
   ]
  },
  {
   "cell_type": "code",
   "execution_count": 184,
   "metadata": {},
   "outputs": [
    {
     "data": {
      "text/plain": [
       "array([[0., 0.],\n",
       "       [1., 1.]])"
      ]
     },
     "execution_count": 184,
     "metadata": {},
     "output_type": "execute_result"
    }
   ],
   "source": [
    "hmm.final_probs"
   ]
  },
  {
   "cell_type": "code",
   "execution_count": 185,
   "metadata": {},
   "outputs": [],
   "source": [
    "node_potentials,edge_potentials = hmm.build_potentials(X_train[0][None,:])"
   ]
  },
  {
   "cell_type": "code",
   "execution_count": 158,
   "metadata": {},
   "outputs": [],
   "source": [
    "def forward_backward(node_potentials,edge_potentials):\n",
    "    H,N = node_potentials.shape\n",
    "    forward = np.zeros([H,N])\n",
    "    backward = np.ones([H,N])\n",
    "    forward[:,0] = node_potentials[:,0]\n",
    "    ##forward\n",
    "    for pos in range(1,N):\n",
    "        for cur_state in range(H):\n",
    "            forward_v = forward[:,pos-1]\n",
    "            trans_v = edge_potentials[:,cur_state,pos-1]\n",
    "            forward[cur_state,pos] = (forward_v@trans_v)*node_potentials[cur_state,pos]\n",
    "    \n",
    "    ##backward\n",
    "    for pos in range(N-2,-1,-1):\n",
    "        for cur_state in range(H):\n",
    "            backward_v = backward[:,pos+1]*node_potentials[:,pos+1]\n",
    "            trans_v = edge_potentials[cur_state,:,pos]\n",
    "            backward[cur_state,pos] = trans_v@backward_v\n",
    "    \n",
    "    return forward,backward\n",
    "            \n",
    "            "
   ]
  },
  {
   "cell_type": "code",
   "execution_count": 159,
   "metadata": {},
   "outputs": [],
   "source": [
    "forward,backward = forward_backward(node_potentials,edge_potentials)"
   ]
  },
  {
   "cell_type": "code",
   "execution_count": 160,
   "metadata": {},
   "outputs": [
    {
     "data": {
      "text/plain": [
       "array([[0.5       , 0.25      , 0.04166667, 0.        ],\n",
       "       [0.08333333, 0.0625    , 0.0546875 , 0.03613281]])"
      ]
     },
     "execution_count": 160,
     "metadata": {},
     "output_type": "execute_result"
    }
   ],
   "source": [
    "forward"
   ]
  },
  {
   "cell_type": "code",
   "execution_count": 161,
   "metadata": {},
   "outputs": [
    {
     "data": {
      "text/plain": [
       "array([[0.06640625, 0.109375  , 0.375     , 1.        ],\n",
       "       [0.03515625, 0.140625  , 0.375     , 1.        ]])"
      ]
     },
     "execution_count": 161,
     "metadata": {},
     "output_type": "execute_result"
    }
   ],
   "source": [
    "backward"
   ]
  },
  {
   "cell_type": "code",
   "execution_count": 162,
   "metadata": {},
   "outputs": [],
   "source": [
    "def sanity_check_forward_backward(forward,backward):\n",
    "    for i in range(forward.shape[1]):\n",
    "        print(forward[:,i]@backward[:,i])"
   ]
  },
  {
   "cell_type": "code",
   "execution_count": 163,
   "metadata": {},
   "outputs": [
    {
     "name": "stdout",
     "output_type": "stream",
     "text": [
      "0.0361328125\n",
      "0.0361328125\n",
      "0.0361328125\n",
      "0.0361328125\n"
     ]
    }
   ],
   "source": [
    "sanity_check_forward_backward(forward,backward)"
   ]
  },
  {
   "cell_type": "code",
   "execution_count": 187,
   "metadata": {},
   "outputs": [],
   "source": [
    "p = hmm.get_node_posteriors(X_train[0][None,:])"
   ]
  },
  {
   "cell_type": "code",
   "execution_count": 189,
   "metadata": {},
   "outputs": [
    {
     "data": {
      "text/plain": [
       "array([0, 0, 1, 1], dtype=int64)"
      ]
     },
     "execution_count": 189,
     "metadata": {},
     "output_type": "execute_result"
    }
   ],
   "source": [
    "np.argmax(p,axis=0)"
   ]
  },
  {
   "cell_type": "code",
   "execution_count": 222,
   "metadata": {},
   "outputs": [],
   "source": [
    "def viterbi(node_potentials,edge_potentials):\n",
    "    H,N = node_potentials.shape\n",
    "    forward = np.zeros((H,N))\n",
    "    beststate = np.zeros((H,N),dtype=\"int\")\n",
    "    \n",
    "    #forward\n",
    "    for state in range(H):\n",
    "        forward[state,0] = node_potentials[state,0]\n",
    "    for pos in range(1,N):\n",
    "        for state in range(H):\n",
    "            forward_v = forward[:,pos-1]\n",
    "            trans_v = edge_potentials[:,state,pos-1]\n",
    "            forward[state,pos] = np.max(forward_v*trans_v)*node_potentials[state,pos]\n",
    "            beststate[state,pos] = np.argmax(forward_v*trans_v)\n",
    "    #backward\n",
    "    y = []\n",
    "    y.append(np.argmax(forward[:,N-1]))\n",
    "    for pos in range(N-1,0,-1):\n",
    "        y.append(beststate[y[-1],pos])\n",
    "    return y[::-1]\n",
    "        "
   ]
  },
  {
   "cell_type": "code",
   "execution_count": 223,
   "metadata": {},
   "outputs": [
    {
     "data": {
      "text/plain": [
       "array([[[0.66666667, 0.66666667, 0.        ],\n",
       "        [0.33333333, 0.33333333, 1.        ]],\n",
       "\n",
       "       [[0.        , 0.        , 0.        ],\n",
       "        [1.        , 1.        , 1.        ]]])"
      ]
     },
     "execution_count": 223,
     "metadata": {},
     "output_type": "execute_result"
    }
   ],
   "source": [
    "edge_potentials"
   ]
  },
  {
   "cell_type": "code",
   "execution_count": 224,
   "metadata": {},
   "outputs": [
    {
     "data": {
      "text/plain": [
       "[0, 0, 0, 1]"
      ]
     },
     "execution_count": 224,
     "metadata": {},
     "output_type": "execute_result"
    }
   ],
   "source": [
    "viterbi(node_potentials,edge_potentials)"
   ]
  },
  {
   "cell_type": "code",
   "execution_count": 221,
   "metadata": {},
   "outputs": [
    {
     "data": {
      "text/plain": [
       "array([ True])"
      ]
     },
     "execution_count": 221,
     "metadata": {},
     "output_type": "execute_result"
    }
   ],
   "source": [
    "np.argmax(node_potentials[:,0])==np.array([0])"
   ]
  },
  {
   "cell_type": "code",
   "execution_count": 206,
   "metadata": {},
   "outputs": [
    {
     "data": {
      "text/plain": [
       "{0: 'r', 1: 's'}"
      ]
     },
     "execution_count": 206,
     "metadata": {},
     "output_type": "execute_result"
    }
   ],
   "source": [
    "hmm.Y_dic_decode"
   ]
  },
  {
   "cell_type": "code",
   "execution_count": null,
   "metadata": {},
   "outputs": [],
   "source": []
  }
 ],
 "metadata": {
  "kernelspec": {
   "display_name": "Python 3",
   "language": "python",
   "name": "python3"
  },
  "language_info": {
   "codemirror_mode": {
    "name": "ipython",
    "version": 3
   },
   "file_extension": ".py",
   "mimetype": "text/x-python",
   "name": "python",
   "nbconvert_exporter": "python",
   "pygments_lexer": "ipython3",
   "version": "3.7.0"
  }
 },
 "nbformat": 4,
 "nbformat_minor": 2
}
